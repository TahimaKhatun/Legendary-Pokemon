{
 "cells": [
  {
   "cell_type": "code",
   "execution_count": 1,
   "metadata": {
    "execution": {
     "iopub.execute_input": "2022-07-20T11:05:09.996336Z",
     "iopub.status.busy": "2022-07-20T11:05:09.995548Z",
     "iopub.status.idle": "2022-07-20T11:05:11.544426Z",
     "shell.execute_reply": "2022-07-20T11:05:11.543373Z",
     "shell.execute_reply.started": "2022-07-20T11:05:09.996245Z"
    },
    "id": "8FUIEAru7aal"
   },
   "outputs": [],
   "source": [
    "# importing necessary libraries\n",
    "import pandas as pd\n",
    "import numpy as np\n",
    "import seaborn as sns\n",
    "import matplotlib.pyplot as plt\n",
    "%matplotlib inline \n",
    "\n",
    "from sklearn.model_selection import train_test_split\n",
    "from sklearn.metrics import accuracy_score, classification_report\n",
    "from sklearn.ensemble import RandomForestClassifier"
   ]
  },
  {
   "cell_type": "code",
   "execution_count": 2,
   "metadata": {
    "execution": {
     "iopub.execute_input": "2022-07-20T11:05:11.546683Z",
     "iopub.status.busy": "2022-07-20T11:05:11.546354Z",
     "iopub.status.idle": "2022-07-20T11:05:11.571486Z",
     "shell.execute_reply": "2022-07-20T11:05:11.570104Z",
     "shell.execute_reply.started": "2022-07-20T11:05:11.546656Z"
    },
    "id": "0rZqk1sx8eOa"
   },
   "outputs": [],
   "source": [
    "# calling data from the directory Dataset in my drive folder.\n",
    "# https://www.kaggle.com/alopez247/pokemon\n",
    "pokemon_data = pd.read_csv('F:\\csv_files\\Pokemon Data.csv')"
   ]
  },
  {
   "cell_type": "code",
   "execution_count": 3,
   "metadata": {
    "execution": {
     "iopub.execute_input": "2022-07-20T11:05:11.574448Z",
     "iopub.status.busy": "2022-07-20T11:05:11.573548Z",
     "iopub.status.idle": "2022-07-20T11:05:11.615842Z",
     "shell.execute_reply": "2022-07-20T11:05:11.613113Z",
     "shell.execute_reply.started": "2022-07-20T11:05:11.574398Z"
    },
    "executionInfo": {
     "elapsed": 5,
     "status": "ok",
     "timestamp": 1621668014314,
     "user": {
      "displayName": "siddharth patra",
      "photoUrl": "https://lh3.googleusercontent.com/a-/AOh14Gjnwsdj5DKa95WHRl25dlQz9L1Bbc10vap4xTNIiA=s64",
      "userId": "01966341811263607507"
     },
     "user_tz": -330
    },
    "id": "cPTNdIgZ7aph",
    "outputId": "cfc36d25-4581-4cec-8705-7ac345f6e5a1"
   },
   "outputs": [
    {
     "data": {
      "text/html": [
       "<div>\n",
       "<style scoped>\n",
       "    .dataframe tbody tr th:only-of-type {\n",
       "        vertical-align: middle;\n",
       "    }\n",
       "\n",
       "    .dataframe tbody tr th {\n",
       "        vertical-align: top;\n",
       "    }\n",
       "\n",
       "    .dataframe thead th {\n",
       "        text-align: right;\n",
       "    }\n",
       "</style>\n",
       "<table border=\"1\" class=\"dataframe\">\n",
       "  <thead>\n",
       "    <tr style=\"text-align: right;\">\n",
       "      <th></th>\n",
       "      <th>Number</th>\n",
       "      <th>Name</th>\n",
       "      <th>Type_1</th>\n",
       "      <th>Type_2</th>\n",
       "      <th>Total</th>\n",
       "      <th>HP</th>\n",
       "      <th>Attack</th>\n",
       "      <th>Defense</th>\n",
       "      <th>Sp_Atk</th>\n",
       "      <th>Sp_Def</th>\n",
       "      <th>...</th>\n",
       "      <th>Color</th>\n",
       "      <th>hasGender</th>\n",
       "      <th>Pr_Male</th>\n",
       "      <th>Egg_Group_1</th>\n",
       "      <th>Egg_Group_2</th>\n",
       "      <th>hasMegaEvolution</th>\n",
       "      <th>Height_m</th>\n",
       "      <th>Weight_kg</th>\n",
       "      <th>Catch_Rate</th>\n",
       "      <th>Body_Style</th>\n",
       "    </tr>\n",
       "  </thead>\n",
       "  <tbody>\n",
       "    <tr>\n",
       "      <th>0</th>\n",
       "      <td>1</td>\n",
       "      <td>Bulbasaur</td>\n",
       "      <td>Grass</td>\n",
       "      <td>Poison</td>\n",
       "      <td>318</td>\n",
       "      <td>45</td>\n",
       "      <td>49</td>\n",
       "      <td>49</td>\n",
       "      <td>65</td>\n",
       "      <td>65</td>\n",
       "      <td>...</td>\n",
       "      <td>Green</td>\n",
       "      <td>True</td>\n",
       "      <td>0.875</td>\n",
       "      <td>Monster</td>\n",
       "      <td>Grass</td>\n",
       "      <td>False</td>\n",
       "      <td>0.71</td>\n",
       "      <td>6.9</td>\n",
       "      <td>45</td>\n",
       "      <td>quadruped</td>\n",
       "    </tr>\n",
       "    <tr>\n",
       "      <th>1</th>\n",
       "      <td>2</td>\n",
       "      <td>Ivysaur</td>\n",
       "      <td>Grass</td>\n",
       "      <td>Poison</td>\n",
       "      <td>405</td>\n",
       "      <td>60</td>\n",
       "      <td>62</td>\n",
       "      <td>63</td>\n",
       "      <td>80</td>\n",
       "      <td>80</td>\n",
       "      <td>...</td>\n",
       "      <td>Green</td>\n",
       "      <td>True</td>\n",
       "      <td>0.875</td>\n",
       "      <td>Monster</td>\n",
       "      <td>Grass</td>\n",
       "      <td>False</td>\n",
       "      <td>0.99</td>\n",
       "      <td>13.0</td>\n",
       "      <td>45</td>\n",
       "      <td>quadruped</td>\n",
       "    </tr>\n",
       "    <tr>\n",
       "      <th>2</th>\n",
       "      <td>3</td>\n",
       "      <td>Venusaur</td>\n",
       "      <td>Grass</td>\n",
       "      <td>Poison</td>\n",
       "      <td>525</td>\n",
       "      <td>80</td>\n",
       "      <td>82</td>\n",
       "      <td>83</td>\n",
       "      <td>100</td>\n",
       "      <td>100</td>\n",
       "      <td>...</td>\n",
       "      <td>Green</td>\n",
       "      <td>True</td>\n",
       "      <td>0.875</td>\n",
       "      <td>Monster</td>\n",
       "      <td>Grass</td>\n",
       "      <td>True</td>\n",
       "      <td>2.01</td>\n",
       "      <td>100.0</td>\n",
       "      <td>45</td>\n",
       "      <td>quadruped</td>\n",
       "    </tr>\n",
       "    <tr>\n",
       "      <th>3</th>\n",
       "      <td>4</td>\n",
       "      <td>Charmander</td>\n",
       "      <td>Fire</td>\n",
       "      <td>NaN</td>\n",
       "      <td>309</td>\n",
       "      <td>39</td>\n",
       "      <td>52</td>\n",
       "      <td>43</td>\n",
       "      <td>60</td>\n",
       "      <td>50</td>\n",
       "      <td>...</td>\n",
       "      <td>Red</td>\n",
       "      <td>True</td>\n",
       "      <td>0.875</td>\n",
       "      <td>Monster</td>\n",
       "      <td>Dragon</td>\n",
       "      <td>False</td>\n",
       "      <td>0.61</td>\n",
       "      <td>8.5</td>\n",
       "      <td>45</td>\n",
       "      <td>bipedal_tailed</td>\n",
       "    </tr>\n",
       "    <tr>\n",
       "      <th>4</th>\n",
       "      <td>5</td>\n",
       "      <td>Charmeleon</td>\n",
       "      <td>Fire</td>\n",
       "      <td>NaN</td>\n",
       "      <td>405</td>\n",
       "      <td>58</td>\n",
       "      <td>64</td>\n",
       "      <td>58</td>\n",
       "      <td>80</td>\n",
       "      <td>65</td>\n",
       "      <td>...</td>\n",
       "      <td>Red</td>\n",
       "      <td>True</td>\n",
       "      <td>0.875</td>\n",
       "      <td>Monster</td>\n",
       "      <td>Dragon</td>\n",
       "      <td>False</td>\n",
       "      <td>1.09</td>\n",
       "      <td>19.0</td>\n",
       "      <td>45</td>\n",
       "      <td>bipedal_tailed</td>\n",
       "    </tr>\n",
       "  </tbody>\n",
       "</table>\n",
       "<p>5 rows × 23 columns</p>\n",
       "</div>"
      ],
      "text/plain": [
       "   Number        Name Type_1  Type_2  Total  HP  Attack  Defense  Sp_Atk  \\\n",
       "0       1   Bulbasaur  Grass  Poison    318  45      49       49      65   \n",
       "1       2     Ivysaur  Grass  Poison    405  60      62       63      80   \n",
       "2       3    Venusaur  Grass  Poison    525  80      82       83     100   \n",
       "3       4  Charmander   Fire     NaN    309  39      52       43      60   \n",
       "4       5  Charmeleon   Fire     NaN    405  58      64       58      80   \n",
       "\n",
       "   Sp_Def  ...  Color  hasGender  Pr_Male Egg_Group_1  Egg_Group_2  \\\n",
       "0      65  ...  Green       True    0.875     Monster        Grass   \n",
       "1      80  ...  Green       True    0.875     Monster        Grass   \n",
       "2     100  ...  Green       True    0.875     Monster        Grass   \n",
       "3      50  ...    Red       True    0.875     Monster       Dragon   \n",
       "4      65  ...    Red       True    0.875     Monster       Dragon   \n",
       "\n",
       "   hasMegaEvolution Height_m Weight_kg  Catch_Rate      Body_Style  \n",
       "0             False     0.71       6.9          45       quadruped  \n",
       "1             False     0.99      13.0          45       quadruped  \n",
       "2              True     2.01     100.0          45       quadruped  \n",
       "3             False     0.61       8.5          45  bipedal_tailed  \n",
       "4             False     1.09      19.0          45  bipedal_tailed  \n",
       "\n",
       "[5 rows x 23 columns]"
      ]
     },
     "execution_count": 3,
     "metadata": {},
     "output_type": "execute_result"
    }
   ],
   "source": [
    "poke = pd.DataFrame(pokemon_data)\n",
    "poke.head()"
   ]
  },
  {
   "cell_type": "code",
   "execution_count": 4,
   "metadata": {
    "execution": {
     "iopub.execute_input": "2022-07-20T11:05:11.619787Z",
     "iopub.status.busy": "2022-07-20T11:05:11.618692Z",
     "iopub.status.idle": "2022-07-20T11:05:11.630096Z",
     "shell.execute_reply": "2022-07-20T11:05:11.629165Z",
     "shell.execute_reply.started": "2022-07-20T11:05:11.619741Z"
    },
    "executionInfo": {
     "elapsed": 348,
     "status": "ok",
     "timestamp": 1621668037858,
     "user": {
      "displayName": "siddharth patra",
      "photoUrl": "https://lh3.googleusercontent.com/a-/AOh14Gjnwsdj5DKa95WHRl25dlQz9L1Bbc10vap4xTNIiA=s64",
      "userId": "01966341811263607507"
     },
     "user_tz": -330
    },
    "id": "82uQx9Ld8SVF",
    "outputId": "0a7b8b20-4c9b-4ebe-ba97-c385e444abf8"
   },
   "outputs": [
    {
     "data": {
      "text/plain": [
       "Number                0\n",
       "Name                  0\n",
       "Type_1                0\n",
       "Type_2              371\n",
       "Total                 0\n",
       "HP                    0\n",
       "Attack                0\n",
       "Defense               0\n",
       "Sp_Atk                0\n",
       "Sp_Def                0\n",
       "Speed                 0\n",
       "Generation            0\n",
       "isLegendary           0\n",
       "Color                 0\n",
       "hasGender             0\n",
       "Pr_Male              77\n",
       "Egg_Group_1           0\n",
       "Egg_Group_2         530\n",
       "hasMegaEvolution      0\n",
       "Height_m              0\n",
       "Weight_kg             0\n",
       "Catch_Rate            0\n",
       "Body_Style            0\n",
       "dtype: int64"
      ]
     },
     "execution_count": 4,
     "metadata": {},
     "output_type": "execute_result"
    }
   ],
   "source": [
    "# checking out for null values.\n",
    "poke.isnull().sum()"
   ]
  },
  {
   "cell_type": "code",
   "execution_count": 5,
   "metadata": {
    "execution": {
     "iopub.execute_input": "2022-07-20T11:05:11.632367Z",
     "iopub.status.busy": "2022-07-20T11:05:11.631044Z",
     "iopub.status.idle": "2022-07-20T11:05:11.639516Z",
     "shell.execute_reply": "2022-07-20T11:05:11.638423Z",
     "shell.execute_reply.started": "2022-07-20T11:05:11.632327Z"
    },
    "executionInfo": {
     "elapsed": 339,
     "status": "ok",
     "timestamp": 1621668270049,
     "user": {
      "displayName": "siddharth patra",
      "photoUrl": "https://lh3.googleusercontent.com/a-/AOh14Gjnwsdj5DKa95WHRl25dlQz9L1Bbc10vap4xTNIiA=s64",
      "userId": "01966341811263607507"
     },
     "user_tz": -330
    },
    "id": "n_ULAcxk8oEW",
    "outputId": "947a9a2f-0c24-4dac-9ad2-d421c96f24f9"
   },
   "outputs": [
    {
     "data": {
      "text/plain": [
       "(721, 23)"
      ]
     },
     "execution_count": 5,
     "metadata": {},
     "output_type": "execute_result"
    }
   ],
   "source": [
    "# from the shape it is clear the dataset is small, meaning we can simply remove the null values columns as filling them can\n",
    "# make the dataset alittle biased.\n",
    "poke.shape"
   ]
  },
  {
   "cell_type": "code",
   "execution_count": 6,
   "metadata": {
    "execution": {
     "iopub.execute_input": "2022-07-20T11:05:11.642354Z",
     "iopub.status.busy": "2022-07-20T11:05:11.641442Z",
     "iopub.status.idle": "2022-07-20T11:05:11.659935Z",
     "shell.execute_reply": "2022-07-20T11:05:11.659033Z",
     "shell.execute_reply.started": "2022-07-20T11:05:11.642309Z"
    },
    "executionInfo": {
     "elapsed": 347,
     "status": "ok",
     "timestamp": 1621668401195,
     "user": {
      "displayName": "siddharth patra",
      "photoUrl": "https://lh3.googleusercontent.com/a-/AOh14Gjnwsdj5DKa95WHRl25dlQz9L1Bbc10vap4xTNIiA=s64",
      "userId": "01966341811263607507"
     },
     "user_tz": -330
    },
    "id": "mHlZTv5p9gs1",
    "outputId": "2348f5c1-7cf1-4d5c-bd06-22acda633bcc"
   },
   "outputs": [
    {
     "data": {
      "text/plain": [
       "0.500    458\n",
       "0.875    101\n",
       "0.000     23\n",
       "0.250     22\n",
       "0.750     19\n",
       "1.000     19\n",
       "0.125      2\n",
       "Name: Pr_Male, dtype: int64"
      ]
     },
     "execution_count": 6,
     "metadata": {},
     "output_type": "execute_result"
    }
   ],
   "source": [
    "# type_2, egg_group_2 and Pr_male have null values.\n",
    "poke['Pr_Male'].value_counts()"
   ]
  },
  {
   "cell_type": "code",
   "execution_count": 7,
   "metadata": {
    "execution": {
     "iopub.execute_input": "2022-07-20T11:05:11.662003Z",
     "iopub.status.busy": "2022-07-20T11:05:11.661292Z",
     "iopub.status.idle": "2022-07-20T11:05:11.674821Z",
     "shell.execute_reply": "2022-07-20T11:05:11.673820Z",
     "shell.execute_reply.started": "2022-07-20T11:05:11.661927Z"
    },
    "executionInfo": {
     "elapsed": 373,
     "status": "ok",
     "timestamp": 1621668946376,
     "user": {
      "displayName": "siddharth patra",
      "photoUrl": "https://lh3.googleusercontent.com/a-/AOh14Gjnwsdj5DKa95WHRl25dlQz9L1Bbc10vap4xTNIiA=s64",
      "userId": "01966341811263607507"
     },
     "user_tz": -330
    },
    "id": "84Y4XgLB90df",
    "outputId": "e93d1f5a-65c0-478a-f01c-092356882ce9"
   },
   "outputs": [
    {
     "data": {
      "text/plain": [
       "0"
      ]
     },
     "execution_count": 7,
     "metadata": {},
     "output_type": "execute_result"
    }
   ],
   "source": [
    "# Since Type_2 and Egg_group_2 columns have so many NULL values we will be removing those columns, you can impute them with other methods too,\n",
    "# but for simplicity we wont do that here. We are only setting Pr_Male column since it had only 77 missing values.\n",
    "\n",
    "poke['Pr_Male'].fillna(0.500, inplace=True)\n",
    "poke['Pr_Male'].isnull().sum()"
   ]
  },
  {
   "cell_type": "code",
   "execution_count": 8,
   "metadata": {
    "execution": {
     "iopub.execute_input": "2022-07-20T11:05:11.677050Z",
     "iopub.status.busy": "2022-07-20T11:05:11.676057Z",
     "iopub.status.idle": "2022-07-20T11:05:11.711317Z",
     "shell.execute_reply": "2022-07-20T11:05:11.710231Z",
     "shell.execute_reply.started": "2022-07-20T11:05:11.677010Z"
    },
    "executionInfo": {
     "elapsed": 346,
     "status": "ok",
     "timestamp": 1621668950445,
     "user": {
      "displayName": "siddharth patra",
      "photoUrl": "https://lh3.googleusercontent.com/a-/AOh14Gjnwsdj5DKa95WHRl25dlQz9L1Bbc10vap4xTNIiA=s64",
      "userId": "01966341811263607507"
     },
     "user_tz": -330
    },
    "id": "DiTCjL58-zNe",
    "outputId": "044220bd-08cd-4651-c860-cbe491a432d1"
   },
   "outputs": [
    {
     "data": {
      "text/html": [
       "<div>\n",
       "<style scoped>\n",
       "    .dataframe tbody tr th:only-of-type {\n",
       "        vertical-align: middle;\n",
       "    }\n",
       "\n",
       "    .dataframe tbody tr th {\n",
       "        vertical-align: top;\n",
       "    }\n",
       "\n",
       "    .dataframe thead th {\n",
       "        text-align: right;\n",
       "    }\n",
       "</style>\n",
       "<table border=\"1\" class=\"dataframe\">\n",
       "  <thead>\n",
       "    <tr style=\"text-align: right;\">\n",
       "      <th></th>\n",
       "      <th>Number</th>\n",
       "      <th>Name</th>\n",
       "      <th>Type_1</th>\n",
       "      <th>Type_2</th>\n",
       "      <th>Total</th>\n",
       "      <th>HP</th>\n",
       "      <th>Attack</th>\n",
       "      <th>Defense</th>\n",
       "      <th>Sp_Atk</th>\n",
       "      <th>Sp_Def</th>\n",
       "      <th>...</th>\n",
       "      <th>Color</th>\n",
       "      <th>hasGender</th>\n",
       "      <th>Pr_Male</th>\n",
       "      <th>Egg_Group_1</th>\n",
       "      <th>Egg_Group_2</th>\n",
       "      <th>hasMegaEvolution</th>\n",
       "      <th>Height_m</th>\n",
       "      <th>Weight_kg</th>\n",
       "      <th>Catch_Rate</th>\n",
       "      <th>Body_Style</th>\n",
       "    </tr>\n",
       "  </thead>\n",
       "  <tbody>\n",
       "    <tr>\n",
       "      <th>716</th>\n",
       "      <td>717</td>\n",
       "      <td>Yveltal</td>\n",
       "      <td>Dark</td>\n",
       "      <td>Flying</td>\n",
       "      <td>680</td>\n",
       "      <td>126</td>\n",
       "      <td>131</td>\n",
       "      <td>95</td>\n",
       "      <td>131</td>\n",
       "      <td>98</td>\n",
       "      <td>...</td>\n",
       "      <td>Red</td>\n",
       "      <td>False</td>\n",
       "      <td>0.5</td>\n",
       "      <td>Undiscovered</td>\n",
       "      <td>NaN</td>\n",
       "      <td>False</td>\n",
       "      <td>5.79</td>\n",
       "      <td>203.0</td>\n",
       "      <td>45</td>\n",
       "      <td>two_wings</td>\n",
       "    </tr>\n",
       "    <tr>\n",
       "      <th>717</th>\n",
       "      <td>718</td>\n",
       "      <td>Zygarde</td>\n",
       "      <td>Dragon</td>\n",
       "      <td>Ground</td>\n",
       "      <td>600</td>\n",
       "      <td>108</td>\n",
       "      <td>100</td>\n",
       "      <td>121</td>\n",
       "      <td>81</td>\n",
       "      <td>95</td>\n",
       "      <td>...</td>\n",
       "      <td>Green</td>\n",
       "      <td>False</td>\n",
       "      <td>0.5</td>\n",
       "      <td>Undiscovered</td>\n",
       "      <td>NaN</td>\n",
       "      <td>False</td>\n",
       "      <td>5.00</td>\n",
       "      <td>305.0</td>\n",
       "      <td>3</td>\n",
       "      <td>serpentine_body</td>\n",
       "    </tr>\n",
       "    <tr>\n",
       "      <th>718</th>\n",
       "      <td>719</td>\n",
       "      <td>Diancie</td>\n",
       "      <td>Rock</td>\n",
       "      <td>Fairy</td>\n",
       "      <td>600</td>\n",
       "      <td>50</td>\n",
       "      <td>100</td>\n",
       "      <td>150</td>\n",
       "      <td>100</td>\n",
       "      <td>150</td>\n",
       "      <td>...</td>\n",
       "      <td>Pink</td>\n",
       "      <td>False</td>\n",
       "      <td>0.5</td>\n",
       "      <td>Undiscovered</td>\n",
       "      <td>NaN</td>\n",
       "      <td>True</td>\n",
       "      <td>0.71</td>\n",
       "      <td>8.8</td>\n",
       "      <td>3</td>\n",
       "      <td>head_arms</td>\n",
       "    </tr>\n",
       "    <tr>\n",
       "      <th>719</th>\n",
       "      <td>720</td>\n",
       "      <td>Hoopa</td>\n",
       "      <td>Psychic</td>\n",
       "      <td>Ghost</td>\n",
       "      <td>600</td>\n",
       "      <td>80</td>\n",
       "      <td>110</td>\n",
       "      <td>60</td>\n",
       "      <td>150</td>\n",
       "      <td>130</td>\n",
       "      <td>...</td>\n",
       "      <td>Purple</td>\n",
       "      <td>False</td>\n",
       "      <td>0.5</td>\n",
       "      <td>Undiscovered</td>\n",
       "      <td>NaN</td>\n",
       "      <td>False</td>\n",
       "      <td>0.51</td>\n",
       "      <td>9.0</td>\n",
       "      <td>3</td>\n",
       "      <td>head_only</td>\n",
       "    </tr>\n",
       "    <tr>\n",
       "      <th>720</th>\n",
       "      <td>721</td>\n",
       "      <td>Volcanion</td>\n",
       "      <td>Fire</td>\n",
       "      <td>Water</td>\n",
       "      <td>600</td>\n",
       "      <td>80</td>\n",
       "      <td>110</td>\n",
       "      <td>120</td>\n",
       "      <td>130</td>\n",
       "      <td>90</td>\n",
       "      <td>...</td>\n",
       "      <td>Brown</td>\n",
       "      <td>False</td>\n",
       "      <td>0.5</td>\n",
       "      <td>Undiscovered</td>\n",
       "      <td>NaN</td>\n",
       "      <td>False</td>\n",
       "      <td>1.70</td>\n",
       "      <td>195.0</td>\n",
       "      <td>3</td>\n",
       "      <td>quadruped</td>\n",
       "    </tr>\n",
       "  </tbody>\n",
       "</table>\n",
       "<p>5 rows × 23 columns</p>\n",
       "</div>"
      ],
      "text/plain": [
       "     Number       Name   Type_1  Type_2  Total   HP  Attack  Defense  Sp_Atk  \\\n",
       "716     717    Yveltal     Dark  Flying    680  126     131       95     131   \n",
       "717     718    Zygarde   Dragon  Ground    600  108     100      121      81   \n",
       "718     719    Diancie     Rock   Fairy    600   50     100      150     100   \n",
       "719     720      Hoopa  Psychic   Ghost    600   80     110       60     150   \n",
       "720     721  Volcanion     Fire   Water    600   80     110      120     130   \n",
       "\n",
       "     Sp_Def  ...   Color  hasGender  Pr_Male   Egg_Group_1  Egg_Group_2  \\\n",
       "716      98  ...     Red      False      0.5  Undiscovered          NaN   \n",
       "717      95  ...   Green      False      0.5  Undiscovered          NaN   \n",
       "718     150  ...    Pink      False      0.5  Undiscovered          NaN   \n",
       "719     130  ...  Purple      False      0.5  Undiscovered          NaN   \n",
       "720      90  ...   Brown      False      0.5  Undiscovered          NaN   \n",
       "\n",
       "     hasMegaEvolution Height_m Weight_kg  Catch_Rate       Body_Style  \n",
       "716             False     5.79     203.0          45        two_wings  \n",
       "717             False     5.00     305.0           3  serpentine_body  \n",
       "718              True     0.71       8.8           3        head_arms  \n",
       "719             False     0.51       9.0           3        head_only  \n",
       "720             False     1.70     195.0           3        quadruped  \n",
       "\n",
       "[5 rows x 23 columns]"
      ]
     },
     "execution_count": 8,
     "metadata": {},
     "output_type": "execute_result"
    }
   ],
   "source": [
    "poke.tail()"
   ]
  },
  {
   "cell_type": "code",
   "execution_count": 9,
   "metadata": {
    "execution": {
     "iopub.execute_input": "2022-07-20T11:05:11.713185Z",
     "iopub.status.busy": "2022-07-20T11:05:11.712512Z",
     "iopub.status.idle": "2022-07-20T11:05:11.725031Z",
     "shell.execute_reply": "2022-07-20T11:05:11.723660Z",
     "shell.execute_reply.started": "2022-07-20T11:05:11.713135Z"
    },
    "id": "xO54voVM_hjG"
   },
   "outputs": [],
   "source": [
    "# dropping columns\n",
    "\n",
    "new_poke = poke.drop(['Type_2', 'Egg_Group_2'], axis=1)"
   ]
  },
  {
   "cell_type": "code",
   "execution_count": 10,
   "metadata": {
    "execution": {
     "iopub.execute_input": "2022-07-20T11:05:11.730801Z",
     "iopub.status.busy": "2022-07-20T11:05:11.729378Z",
     "iopub.status.idle": "2022-07-20T11:05:11.800306Z",
     "shell.execute_reply": "2022-07-20T11:05:11.799132Z",
     "shell.execute_reply.started": "2022-07-20T11:05:11.730748Z"
    },
    "executionInfo": {
     "elapsed": 373,
     "status": "ok",
     "timestamp": 1621669123441,
     "user": {
      "displayName": "siddharth patra",
      "photoUrl": "https://lh3.googleusercontent.com/a-/AOh14Gjnwsdj5DKa95WHRl25dlQz9L1Bbc10vap4xTNIiA=s64",
      "userId": "01966341811263607507"
     },
     "user_tz": -330
    },
    "id": "QwX16qF4Am-c",
    "outputId": "6b23055e-4d22-45af-be9b-ff4b1dfd3272"
   },
   "outputs": [
    {
     "data": {
      "text/html": [
       "<div>\n",
       "<style scoped>\n",
       "    .dataframe tbody tr th:only-of-type {\n",
       "        vertical-align: middle;\n",
       "    }\n",
       "\n",
       "    .dataframe tbody tr th {\n",
       "        vertical-align: top;\n",
       "    }\n",
       "\n",
       "    .dataframe thead th {\n",
       "        text-align: right;\n",
       "    }\n",
       "</style>\n",
       "<table border=\"1\" class=\"dataframe\">\n",
       "  <thead>\n",
       "    <tr style=\"text-align: right;\">\n",
       "      <th></th>\n",
       "      <th>Number</th>\n",
       "      <th>Total</th>\n",
       "      <th>HP</th>\n",
       "      <th>Attack</th>\n",
       "      <th>Defense</th>\n",
       "      <th>Sp_Atk</th>\n",
       "      <th>Sp_Def</th>\n",
       "      <th>Speed</th>\n",
       "      <th>Generation</th>\n",
       "      <th>Pr_Male</th>\n",
       "      <th>Height_m</th>\n",
       "      <th>Weight_kg</th>\n",
       "      <th>Catch_Rate</th>\n",
       "    </tr>\n",
       "  </thead>\n",
       "  <tbody>\n",
       "    <tr>\n",
       "      <th>count</th>\n",
       "      <td>721.00000</td>\n",
       "      <td>721.000000</td>\n",
       "      <td>721.000000</td>\n",
       "      <td>721.000000</td>\n",
       "      <td>721.000000</td>\n",
       "      <td>721.000000</td>\n",
       "      <td>721.000000</td>\n",
       "      <td>721.000000</td>\n",
       "      <td>721.000000</td>\n",
       "      <td>721.000000</td>\n",
       "      <td>721.000000</td>\n",
       "      <td>721.000000</td>\n",
       "      <td>721.000000</td>\n",
       "    </tr>\n",
       "    <tr>\n",
       "      <th>mean</th>\n",
       "      <td>361.00000</td>\n",
       "      <td>417.945908</td>\n",
       "      <td>68.380028</td>\n",
       "      <td>75.013870</td>\n",
       "      <td>70.808599</td>\n",
       "      <td>68.737864</td>\n",
       "      <td>69.291262</td>\n",
       "      <td>65.714286</td>\n",
       "      <td>3.323162</td>\n",
       "      <td>0.547677</td>\n",
       "      <td>1.144979</td>\n",
       "      <td>56.773370</td>\n",
       "      <td>100.246879</td>\n",
       "    </tr>\n",
       "    <tr>\n",
       "      <th>std</th>\n",
       "      <td>208.27906</td>\n",
       "      <td>109.663671</td>\n",
       "      <td>25.848272</td>\n",
       "      <td>28.984475</td>\n",
       "      <td>29.296558</td>\n",
       "      <td>28.788005</td>\n",
       "      <td>27.015860</td>\n",
       "      <td>27.277920</td>\n",
       "      <td>1.669873</td>\n",
       "      <td>0.189693</td>\n",
       "      <td>1.044369</td>\n",
       "      <td>89.095667</td>\n",
       "      <td>76.573513</td>\n",
       "    </tr>\n",
       "    <tr>\n",
       "      <th>min</th>\n",
       "      <td>1.00000</td>\n",
       "      <td>180.000000</td>\n",
       "      <td>1.000000</td>\n",
       "      <td>5.000000</td>\n",
       "      <td>5.000000</td>\n",
       "      <td>10.000000</td>\n",
       "      <td>20.000000</td>\n",
       "      <td>5.000000</td>\n",
       "      <td>1.000000</td>\n",
       "      <td>0.000000</td>\n",
       "      <td>0.100000</td>\n",
       "      <td>0.100000</td>\n",
       "      <td>3.000000</td>\n",
       "    </tr>\n",
       "    <tr>\n",
       "      <th>25%</th>\n",
       "      <td>181.00000</td>\n",
       "      <td>320.000000</td>\n",
       "      <td>50.000000</td>\n",
       "      <td>53.000000</td>\n",
       "      <td>50.000000</td>\n",
       "      <td>45.000000</td>\n",
       "      <td>50.000000</td>\n",
       "      <td>45.000000</td>\n",
       "      <td>2.000000</td>\n",
       "      <td>0.500000</td>\n",
       "      <td>0.610000</td>\n",
       "      <td>9.400000</td>\n",
       "      <td>45.000000</td>\n",
       "    </tr>\n",
       "    <tr>\n",
       "      <th>50%</th>\n",
       "      <td>361.00000</td>\n",
       "      <td>424.000000</td>\n",
       "      <td>65.000000</td>\n",
       "      <td>74.000000</td>\n",
       "      <td>65.000000</td>\n",
       "      <td>65.000000</td>\n",
       "      <td>65.000000</td>\n",
       "      <td>65.000000</td>\n",
       "      <td>3.000000</td>\n",
       "      <td>0.500000</td>\n",
       "      <td>0.990000</td>\n",
       "      <td>28.000000</td>\n",
       "      <td>65.000000</td>\n",
       "    </tr>\n",
       "    <tr>\n",
       "      <th>75%</th>\n",
       "      <td>541.00000</td>\n",
       "      <td>499.000000</td>\n",
       "      <td>80.000000</td>\n",
       "      <td>95.000000</td>\n",
       "      <td>85.000000</td>\n",
       "      <td>90.000000</td>\n",
       "      <td>85.000000</td>\n",
       "      <td>85.000000</td>\n",
       "      <td>5.000000</td>\n",
       "      <td>0.500000</td>\n",
       "      <td>1.400000</td>\n",
       "      <td>61.000000</td>\n",
       "      <td>180.000000</td>\n",
       "    </tr>\n",
       "    <tr>\n",
       "      <th>max</th>\n",
       "      <td>721.00000</td>\n",
       "      <td>720.000000</td>\n",
       "      <td>255.000000</td>\n",
       "      <td>165.000000</td>\n",
       "      <td>230.000000</td>\n",
       "      <td>154.000000</td>\n",
       "      <td>230.000000</td>\n",
       "      <td>160.000000</td>\n",
       "      <td>6.000000</td>\n",
       "      <td>1.000000</td>\n",
       "      <td>14.500000</td>\n",
       "      <td>950.000000</td>\n",
       "      <td>255.000000</td>\n",
       "    </tr>\n",
       "  </tbody>\n",
       "</table>\n",
       "</div>"
      ],
      "text/plain": [
       "          Number       Total          HP      Attack     Defense      Sp_Atk  \\\n",
       "count  721.00000  721.000000  721.000000  721.000000  721.000000  721.000000   \n",
       "mean   361.00000  417.945908   68.380028   75.013870   70.808599   68.737864   \n",
       "std    208.27906  109.663671   25.848272   28.984475   29.296558   28.788005   \n",
       "min      1.00000  180.000000    1.000000    5.000000    5.000000   10.000000   \n",
       "25%    181.00000  320.000000   50.000000   53.000000   50.000000   45.000000   \n",
       "50%    361.00000  424.000000   65.000000   74.000000   65.000000   65.000000   \n",
       "75%    541.00000  499.000000   80.000000   95.000000   85.000000   90.000000   \n",
       "max    721.00000  720.000000  255.000000  165.000000  230.000000  154.000000   \n",
       "\n",
       "           Sp_Def       Speed  Generation     Pr_Male    Height_m   Weight_kg  \\\n",
       "count  721.000000  721.000000  721.000000  721.000000  721.000000  721.000000   \n",
       "mean    69.291262   65.714286    3.323162    0.547677    1.144979   56.773370   \n",
       "std     27.015860   27.277920    1.669873    0.189693    1.044369   89.095667   \n",
       "min     20.000000    5.000000    1.000000    0.000000    0.100000    0.100000   \n",
       "25%     50.000000   45.000000    2.000000    0.500000    0.610000    9.400000   \n",
       "50%     65.000000   65.000000    3.000000    0.500000    0.990000   28.000000   \n",
       "75%     85.000000   85.000000    5.000000    0.500000    1.400000   61.000000   \n",
       "max    230.000000  160.000000    6.000000    1.000000   14.500000  950.000000   \n",
       "\n",
       "       Catch_Rate  \n",
       "count  721.000000  \n",
       "mean   100.246879  \n",
       "std     76.573513  \n",
       "min      3.000000  \n",
       "25%     45.000000  \n",
       "50%     65.000000  \n",
       "75%    180.000000  \n",
       "max    255.000000  "
      ]
     },
     "execution_count": 10,
     "metadata": {},
     "output_type": "execute_result"
    }
   ],
   "source": [
    "# From the data understand each columns type and values.\n",
    "\n",
    "new_poke.describe()\n",
    "# (20, 20000) -> x -min/ max-min -> x = 300 -> 300-20/19980 -> a very small value"
   ]
  },
  {
   "cell_type": "code",
   "execution_count": 11,
   "metadata": {
    "execution": {
     "iopub.execute_input": "2022-07-20T11:05:11.803236Z",
     "iopub.status.busy": "2022-07-20T11:05:11.802382Z",
     "iopub.status.idle": "2022-07-20T11:05:13.198937Z",
     "shell.execute_reply": "2022-07-20T11:05:13.197605Z",
     "shell.execute_reply.started": "2022-07-20T11:05:11.803188Z"
    },
    "executionInfo": {
     "elapsed": 2605,
     "status": "ok",
     "timestamp": 1621670241498,
     "user": {
      "displayName": "siddharth patra",
      "photoUrl": "https://lh3.googleusercontent.com/a-/AOh14Gjnwsdj5DKa95WHRl25dlQz9L1Bbc10vap4xTNIiA=s64",
      "userId": "01966341811263607507"
     },
     "user_tz": -330
    },
    "id": "CPK2jnfaEo2p",
    "outputId": "e19dfe63-7c12-49a6-974b-ceab7982e7f6"
   },
   "outputs": [
    {
     "data": {
      "text/plain": [
       "<AxesSubplot:>"
      ]
     },
     "execution_count": 11,
     "metadata": {},
     "output_type": "execute_result"
    },
    {
     "data": {
      "image/png": "[encoded data removed]",
      "text/plain": [
       "<Figure size 1080x1080 with 2 Axes>"
      ]
     },
     "metadata": {
      "needs_background": "light"
     },
     "output_type": "display_data"
    }
   ],
   "source": [
    "plt.figure(figsize=(15,15))\n",
    "sns.heatmap(new_poke.corr(),annot=True,cmap='viridis',linewidths=.5)"
   ]
  },
  {
   "cell_type": "code",
   "execution_count": 12,
   "metadata": {
    "execution": {
     "iopub.execute_input": "2022-07-20T11:05:13.200809Z",
     "iopub.status.busy": "2022-07-20T11:05:13.200366Z",
     "iopub.status.idle": "2022-07-20T11:05:13.207691Z",
     "shell.execute_reply": "2022-07-20T11:05:13.206486Z",
     "shell.execute_reply.started": "2022-07-20T11:05:13.200767Z"
    },
    "id": "QqfQghJ5FIL3"
   },
   "outputs": [],
   "source": [
    "# the above is a correlation graph which tells you how much is a feature correlated to another, sice high correlation means one of the two feature\n",
    "# is not telling much to the model when predicting.\n",
    "# Usually it is to be determined by you itself for the value of correlation that is high and is to be removed."
   ]
  },
  {
   "cell_type": "code",
   "execution_count": 13,
   "metadata": {
    "execution": {
     "iopub.execute_input": "2022-07-20T11:05:13.210185Z",
     "iopub.status.busy": "2022-07-20T11:05:13.209450Z",
     "iopub.status.idle": "2022-07-20T11:05:13.220258Z",
     "shell.execute_reply": "2022-07-20T11:05:13.218947Z",
     "shell.execute_reply.started": "2022-07-20T11:05:13.210126Z"
    },
    "id": "XlZdRfvfAxDn"
   },
   "outputs": [],
   "source": [
    "# From the above table it is clear that different features have different ranges of value, which creates complexity for model, so we tone them \n",
    "# down usually using StandardScalar() class which we will do later on."
   ]
  },
  {
   "cell_type": "code",
   "execution_count": 14,
   "metadata": {
    "execution": {
     "iopub.execute_input": "2022-07-20T11:05:13.222868Z",
     "iopub.status.busy": "2022-07-20T11:05:13.222127Z",
     "iopub.status.idle": "2022-07-20T11:05:13.245094Z",
     "shell.execute_reply": "2022-07-20T11:05:13.243962Z",
     "shell.execute_reply.started": "2022-07-20T11:05:13.222823Z"
    },
    "executionInfo": {
     "elapsed": 367,
     "status": "ok",
     "timestamp": 1621669579138,
     "user": {
      "displayName": "siddharth patra",
      "photoUrl": "https://lh3.googleusercontent.com/a-/AOh14Gjnwsdj5DKa95WHRl25dlQz9L1Bbc10vap4xTNIiA=s64",
      "userId": "01966341811263607507"
     },
     "user_tz": -330
    },
    "id": "wvej6o6_BZSR",
    "outputId": "6d983a23-6478-4ea4-98f7-a5c1a377c861"
   },
   "outputs": [
    {
     "data": {
      "text/plain": [
       "Water       105\n",
       "Normal       93\n",
       "Grass        66\n",
       "Bug          63\n",
       "Fire         47\n",
       "Psychic      47\n",
       "Rock         41\n",
       "Electric     36\n",
       "Ground       30\n",
       "Dark         28\n",
       "Poison       28\n",
       "Fighting     25\n",
       "Dragon       24\n",
       "Ice          23\n",
       "Ghost        23\n",
       "Steel        22\n",
       "Fairy        17\n",
       "Flying        3\n",
       "Name: Type_1, dtype: int64"
      ]
     },
     "execution_count": 14,
     "metadata": {},
     "output_type": "execute_result"
    }
   ],
   "source": [
    "# Now try to understand which columns are categorical, they are hidden mines of data and feature engineering is usually done on them.\n",
    "\n",
    "new_poke['Type_1'].value_counts()"
   ]
  },
  {
   "cell_type": "code",
   "execution_count": 15,
   "metadata": {
    "execution": {
     "iopub.execute_input": "2022-07-20T11:05:13.247382Z",
     "iopub.status.busy": "2022-07-20T11:05:13.246899Z",
     "iopub.status.idle": "2022-07-20T11:05:13.260653Z",
     "shell.execute_reply": "2022-07-20T11:05:13.258971Z",
     "shell.execute_reply.started": "2022-07-20T11:05:13.247335Z"
    },
    "executionInfo": {
     "elapsed": 363,
     "status": "ok",
     "timestamp": 1621669638545,
     "user": {
      "displayName": "siddharth patra",
      "photoUrl": "https://lh3.googleusercontent.com/a-/AOh14Gjnwsdj5DKa95WHRl25dlQz9L1Bbc10vap4xTNIiA=s64",
      "userId": "01966341811263607507"
     },
     "user_tz": -330
    },
    "id": "rRt8FYG6CbvM",
    "outputId": "eb22f319-5ce4-4387-9437-a330e0a8527c"
   },
   "outputs": [
    {
     "data": {
      "text/plain": [
       "5    156\n",
       "1    151\n",
       "3    135\n",
       "4    107\n",
       "2    100\n",
       "6     72\n",
       "Name: Generation, dtype: int64"
      ]
     },
     "execution_count": 15,
     "metadata": {},
     "output_type": "execute_result"
    }
   ],
   "source": [
    "new_poke['Generation'].value_counts()"
   ]
  },
  {
   "cell_type": "code",
   "execution_count": 16,
   "metadata": {
    "execution": {
     "iopub.execute_input": "2022-07-20T11:05:13.263205Z",
     "iopub.status.busy": "2022-07-20T11:05:13.262500Z",
     "iopub.status.idle": "2022-07-20T11:05:13.275498Z",
     "shell.execute_reply": "2022-07-20T11:05:13.274319Z",
     "shell.execute_reply.started": "2022-07-20T11:05:13.263155Z"
    },
    "executionInfo": {
     "elapsed": 349,
     "status": "ok",
     "timestamp": 1621669674288,
     "user": {
      "displayName": "siddharth patra",
      "photoUrl": "https://lh3.googleusercontent.com/a-/AOh14Gjnwsdj5DKa95WHRl25dlQz9L1Bbc10vap4xTNIiA=s64",
      "userId": "01966341811263607507"
     },
     "user_tz": -330
    },
    "id": "bGSRQrWVCu25",
    "outputId": "48016c9f-11f7-43ed-9508-dbcaf30f7cb5"
   },
   "outputs": [
    {
     "data": {
      "text/plain": [
       "Blue      134\n",
       "Brown     110\n",
       "Green      79\n",
       "Red        75\n",
       "Grey       69\n",
       "Purple     65\n",
       "Yellow     64\n",
       "White      52\n",
       "Pink       41\n",
       "Black      32\n",
       "Name: Color, dtype: int64"
      ]
     },
     "execution_count": 16,
     "metadata": {},
     "output_type": "execute_result"
    }
   ],
   "source": [
    "new_poke['Color'].value_counts()"
   ]
  },
  {
   "cell_type": "code",
   "execution_count": 17,
   "metadata": {
    "execution": {
     "iopub.execute_input": "2022-07-20T11:05:13.278251Z",
     "iopub.status.busy": "2022-07-20T11:05:13.277478Z",
     "iopub.status.idle": "2022-07-20T11:05:13.291381Z",
     "shell.execute_reply": "2022-07-20T11:05:13.290235Z",
     "shell.execute_reply.started": "2022-07-20T11:05:13.278204Z"
    },
    "executionInfo": {
     "elapsed": 396,
     "status": "ok",
     "timestamp": 1621669715447,
     "user": {
      "displayName": "siddharth patra",
      "photoUrl": "https://lh3.googleusercontent.com/a-/AOh14Gjnwsdj5DKa95WHRl25dlQz9L1Bbc10vap4xTNIiA=s64",
      "userId": "01966341811263607507"
     },
     "user_tz": -330
    },
    "id": "7Gg2A5-nC3j7",
    "outputId": "5f360fdc-1a9e-4fdf-bba3-1a6950350b46"
   },
   "outputs": [
    {
     "data": {
      "text/plain": [
       "Field           169\n",
       "Monster          74\n",
       "Water_1          74\n",
       "Undiscovered     73\n",
       "Bug              66\n",
       "Mineral          46\n",
       "Flying           44\n",
       "Amorphous        41\n",
       "Human-Like       37\n",
       "Fairy            30\n",
       "Grass            27\n",
       "Water_2          15\n",
       "Water_3          14\n",
       "Dragon           10\n",
       "Ditto             1\n",
       "Name: Egg_Group_1, dtype: int64"
      ]
     },
     "execution_count": 17,
     "metadata": {},
     "output_type": "execute_result"
    }
   ],
   "source": [
    "new_poke['Egg_Group_1'].value_counts()"
   ]
  },
  {
   "cell_type": "code",
   "execution_count": 18,
   "metadata": {
    "execution": {
     "iopub.execute_input": "2022-07-20T11:05:13.294976Z",
     "iopub.status.busy": "2022-07-20T11:05:13.294279Z",
     "iopub.status.idle": "2022-07-20T11:05:13.308865Z",
     "shell.execute_reply": "2022-07-20T11:05:13.307131Z",
     "shell.execute_reply.started": "2022-07-20T11:05:13.294937Z"
    },
    "executionInfo": {
     "elapsed": 355,
     "status": "ok",
     "timestamp": 1621669749378,
     "user": {
      "displayName": "siddharth patra",
      "photoUrl": "https://lh3.googleusercontent.com/a-/AOh14Gjnwsdj5DKa95WHRl25dlQz9L1Bbc10vap4xTNIiA=s64",
      "userId": "01966341811263607507"
     },
     "user_tz": -330
    },
    "id": "Ky7Q6fpKDBn4",
    "outputId": "6868eba8-fb64-48be-c522-a4997ef23ff7"
   },
   "outputs": [
    {
     "data": {
      "text/plain": [
       "bipedal_tailed      158\n",
       "quadruped           135\n",
       "bipedal_tailless    109\n",
       "two_wings            63\n",
       "head_arms            39\n",
       "head_only            34\n",
       "with_fins            31\n",
       "insectoid            30\n",
       "head_base            30\n",
       "serpentine_body      29\n",
       "four_wings           18\n",
       "head_legs            17\n",
       "multiple_bodies      15\n",
       "several_limbs        13\n",
       "Name: Body_Style, dtype: int64"
      ]
     },
     "execution_count": 18,
     "metadata": {},
     "output_type": "execute_result"
    }
   ],
   "source": [
    "new_poke['Body_Style'].value_counts()"
   ]
  },
  {
   "cell_type": "code",
   "execution_count": 19,
   "metadata": {
    "execution": {
     "iopub.execute_input": "2022-07-20T11:05:13.312065Z",
     "iopub.status.busy": "2022-07-20T11:05:13.311194Z",
     "iopub.status.idle": "2022-07-20T11:05:13.318603Z",
     "shell.execute_reply": "2022-07-20T11:05:13.317237Z",
     "shell.execute_reply.started": "2022-07-20T11:05:13.312016Z"
    },
    "id": "YDwuhW6qDJ61"
   },
   "outputs": [],
   "source": [
    "# There are more categorical data, which I have not listed here, can you find those?\n",
    "# Can you identify, why I have not listed them"
   ]
  },
  {
   "cell_type": "code",
   "execution_count": 20,
   "metadata": {
    "execution": {
     "iopub.execute_input": "2022-07-20T11:05:13.320965Z",
     "iopub.status.busy": "2022-07-20T11:05:13.320002Z",
     "iopub.status.idle": "2022-07-20T11:05:13.347775Z",
     "shell.execute_reply": "2022-07-20T11:05:13.346847Z",
     "shell.execute_reply.started": "2022-07-20T11:05:13.320918Z"
    },
    "executionInfo": {
     "elapsed": 364,
     "status": "ok",
     "timestamp": 1621671887739,
     "user": {
      "displayName": "siddharth patra",
      "photoUrl": "https://lh3.googleusercontent.com/a-/AOh14Gjnwsdj5DKa95WHRl25dlQz9L1Bbc10vap4xTNIiA=s64",
      "userId": "01966341811263607507"
     },
     "user_tz": -330
    },
    "id": "wODE1Dp5DXCq",
    "outputId": "b09a68f6-72c4-4fa5-8384-31c4ec3c2c30"
   },
   "outputs": [
    {
     "data": {
      "text/plain": [
       "Grass       129\n",
       "Water       128\n",
       "Dark        115\n",
       "Normal       93\n",
       "Rock         71\n",
       "Electric     58\n",
       "Fire         47\n",
       "Poison       28\n",
       "Fighting     25\n",
       "Dragon       24\n",
       "Flying        3\n",
       "Name: Type_1, dtype: int64"
      ]
     },
     "execution_count": 20,
     "metadata": {},
     "output_type": "execute_result"
    }
   ],
   "source": [
    "# Feature Engineering\n",
    "\n",
    "# creating new categories or actually merging categories so it is easy for to wrok with afterwards.\n",
    "# Now this may seem uncomfortable to some but you will get it why I did it like that.\n",
    "\n",
    "poke_type1 = new_poke.replace(['Water', 'Ice'], 'Water')\n",
    "poke_type1 = poke_type1.replace(['Grass', 'Bug'], 'Grass')\n",
    "poke_type1 = poke_type1.replace(['Ground', 'Rock'], 'Rock')\n",
    "poke_type1 = poke_type1.replace(['Psychic', 'Dark', 'Ghost', 'Fairy'], 'Dark')\n",
    "poke_type1 = poke_type1.replace(['Electric', 'Steel'], 'Electric')\n",
    "\n",
    "poke_type1['Type_1'].value_counts()"
   ]
  },
  {
   "cell_type": "code",
   "execution_count": 21,
   "metadata": {
    "execution": {
     "iopub.execute_input": "2022-07-20T11:05:13.349573Z",
     "iopub.status.busy": "2022-07-20T11:05:13.348934Z",
     "iopub.status.idle": "2022-07-20T11:05:13.378463Z",
     "shell.execute_reply": "2022-07-20T11:05:13.377515Z",
     "shell.execute_reply.started": "2022-07-20T11:05:13.349541Z"
    },
    "executionInfo": {
     "elapsed": 382,
     "status": "ok",
     "timestamp": 1621671940146,
     "user": {
      "displayName": "siddharth patra",
      "photoUrl": "https://lh3.googleusercontent.com/a-/AOh14Gjnwsdj5DKa95WHRl25dlQz9L1Bbc10vap4xTNIiA=s64",
      "userId": "01966341811263607507"
     },
     "user_tz": -330
    },
    "id": "fIgo0u7bLT-P",
    "outputId": "a5e305a0-78ea-41da-cbf2-1522061800ed"
   },
   "outputs": [
    {
     "data": {
      "text/html": [
       "<div>\n",
       "<style scoped>\n",
       "    .dataframe tbody tr th:only-of-type {\n",
       "        vertical-align: middle;\n",
       "    }\n",
       "\n",
       "    .dataframe tbody tr th {\n",
       "        vertical-align: top;\n",
       "    }\n",
       "\n",
       "    .dataframe thead th {\n",
       "        text-align: right;\n",
       "    }\n",
       "</style>\n",
       "<table border=\"1\" class=\"dataframe\">\n",
       "  <thead>\n",
       "    <tr style=\"text-align: right;\">\n",
       "      <th></th>\n",
       "      <th>Number</th>\n",
       "      <th>Name</th>\n",
       "      <th>Type_1</th>\n",
       "      <th>Total</th>\n",
       "      <th>HP</th>\n",
       "      <th>Attack</th>\n",
       "      <th>Defense</th>\n",
       "      <th>Sp_Atk</th>\n",
       "      <th>Sp_Def</th>\n",
       "      <th>Speed</th>\n",
       "      <th>...</th>\n",
       "      <th>isLegendary</th>\n",
       "      <th>Color</th>\n",
       "      <th>hasGender</th>\n",
       "      <th>Pr_Male</th>\n",
       "      <th>Egg_Group_1</th>\n",
       "      <th>hasMegaEvolution</th>\n",
       "      <th>Height_m</th>\n",
       "      <th>Weight_kg</th>\n",
       "      <th>Catch_Rate</th>\n",
       "      <th>Body_Style</th>\n",
       "    </tr>\n",
       "  </thead>\n",
       "  <tbody>\n",
       "    <tr>\n",
       "      <th>0</th>\n",
       "      <td>1</td>\n",
       "      <td>Bulbasaur</td>\n",
       "      <td>Grass</td>\n",
       "      <td>318</td>\n",
       "      <td>45</td>\n",
       "      <td>49</td>\n",
       "      <td>49</td>\n",
       "      <td>65</td>\n",
       "      <td>65</td>\n",
       "      <td>45</td>\n",
       "      <td>...</td>\n",
       "      <td>False</td>\n",
       "      <td>Green</td>\n",
       "      <td>True</td>\n",
       "      <td>0.875</td>\n",
       "      <td>Monster</td>\n",
       "      <td>False</td>\n",
       "      <td>0.71</td>\n",
       "      <td>6.9</td>\n",
       "      <td>45</td>\n",
       "      <td>quadruped</td>\n",
       "    </tr>\n",
       "    <tr>\n",
       "      <th>1</th>\n",
       "      <td>2</td>\n",
       "      <td>Ivysaur</td>\n",
       "      <td>Grass</td>\n",
       "      <td>405</td>\n",
       "      <td>60</td>\n",
       "      <td>62</td>\n",
       "      <td>63</td>\n",
       "      <td>80</td>\n",
       "      <td>80</td>\n",
       "      <td>60</td>\n",
       "      <td>...</td>\n",
       "      <td>False</td>\n",
       "      <td>Green</td>\n",
       "      <td>True</td>\n",
       "      <td>0.875</td>\n",
       "      <td>Monster</td>\n",
       "      <td>False</td>\n",
       "      <td>0.99</td>\n",
       "      <td>13.0</td>\n",
       "      <td>45</td>\n",
       "      <td>quadruped</td>\n",
       "    </tr>\n",
       "    <tr>\n",
       "      <th>2</th>\n",
       "      <td>3</td>\n",
       "      <td>Venusaur</td>\n",
       "      <td>Grass</td>\n",
       "      <td>525</td>\n",
       "      <td>80</td>\n",
       "      <td>82</td>\n",
       "      <td>83</td>\n",
       "      <td>100</td>\n",
       "      <td>100</td>\n",
       "      <td>80</td>\n",
       "      <td>...</td>\n",
       "      <td>False</td>\n",
       "      <td>Green</td>\n",
       "      <td>True</td>\n",
       "      <td>0.875</td>\n",
       "      <td>Monster</td>\n",
       "      <td>True</td>\n",
       "      <td>2.01</td>\n",
       "      <td>100.0</td>\n",
       "      <td>45</td>\n",
       "      <td>quadruped</td>\n",
       "    </tr>\n",
       "    <tr>\n",
       "      <th>3</th>\n",
       "      <td>4</td>\n",
       "      <td>Charmander</td>\n",
       "      <td>Fire</td>\n",
       "      <td>309</td>\n",
       "      <td>39</td>\n",
       "      <td>52</td>\n",
       "      <td>43</td>\n",
       "      <td>60</td>\n",
       "      <td>50</td>\n",
       "      <td>65</td>\n",
       "      <td>...</td>\n",
       "      <td>False</td>\n",
       "      <td>Red</td>\n",
       "      <td>True</td>\n",
       "      <td>0.875</td>\n",
       "      <td>Monster</td>\n",
       "      <td>False</td>\n",
       "      <td>0.61</td>\n",
       "      <td>8.5</td>\n",
       "      <td>45</td>\n",
       "      <td>bipedal_tailed</td>\n",
       "    </tr>\n",
       "    <tr>\n",
       "      <th>4</th>\n",
       "      <td>5</td>\n",
       "      <td>Charmeleon</td>\n",
       "      <td>Fire</td>\n",
       "      <td>405</td>\n",
       "      <td>58</td>\n",
       "      <td>64</td>\n",
       "      <td>58</td>\n",
       "      <td>80</td>\n",
       "      <td>65</td>\n",
       "      <td>80</td>\n",
       "      <td>...</td>\n",
       "      <td>False</td>\n",
       "      <td>Red</td>\n",
       "      <td>True</td>\n",
       "      <td>0.875</td>\n",
       "      <td>Monster</td>\n",
       "      <td>False</td>\n",
       "      <td>1.09</td>\n",
       "      <td>19.0</td>\n",
       "      <td>45</td>\n",
       "      <td>bipedal_tailed</td>\n",
       "    </tr>\n",
       "  </tbody>\n",
       "</table>\n",
       "<p>5 rows × 21 columns</p>\n",
       "</div>"
      ],
      "text/plain": [
       "   Number        Name Type_1  Total  HP  Attack  Defense  Sp_Atk  Sp_Def  \\\n",
       "0       1   Bulbasaur  Grass    318  45      49       49      65      65   \n",
       "1       2     Ivysaur  Grass    405  60      62       63      80      80   \n",
       "2       3    Venusaur  Grass    525  80      82       83     100     100   \n",
       "3       4  Charmander   Fire    309  39      52       43      60      50   \n",
       "4       5  Charmeleon   Fire    405  58      64       58      80      65   \n",
       "\n",
       "   Speed  ...  isLegendary  Color hasGender  Pr_Male  Egg_Group_1  \\\n",
       "0     45  ...        False  Green      True    0.875      Monster   \n",
       "1     60  ...        False  Green      True    0.875      Monster   \n",
       "2     80  ...        False  Green      True    0.875      Monster   \n",
       "3     65  ...        False    Red      True    0.875      Monster   \n",
       "4     80  ...        False    Red      True    0.875      Monster   \n",
       "\n",
       "  hasMegaEvolution  Height_m  Weight_kg  Catch_Rate      Body_Style  \n",
       "0            False      0.71        6.9          45       quadruped  \n",
       "1            False      0.99       13.0          45       quadruped  \n",
       "2             True      2.01      100.0          45       quadruped  \n",
       "3            False      0.61        8.5          45  bipedal_tailed  \n",
       "4            False      1.09       19.0          45  bipedal_tailed  \n",
       "\n",
       "[5 rows x 21 columns]"
      ]
     },
     "execution_count": 21,
     "metadata": {},
     "output_type": "execute_result"
    }
   ],
   "source": [
    "poke_type1.head()"
   ]
  },
  {
   "cell_type": "code",
   "execution_count": 22,
   "metadata": {
    "execution": {
     "iopub.execute_input": "2022-07-20T11:05:13.380831Z",
     "iopub.status.busy": "2022-07-20T11:05:13.380155Z",
     "iopub.status.idle": "2022-07-20T11:05:13.390009Z",
     "shell.execute_reply": "2022-07-20T11:05:13.388799Z",
     "shell.execute_reply.started": "2022-07-20T11:05:13.380787Z"
    },
    "id": "AXtB3C93LgvV"
   },
   "outputs": [],
   "source": [
    "ref1 = dict(poke_type1['Body_Style'].value_counts())\n",
    "\n",
    "poke_type1['Body_Style_new'] = poke_type1['Body_Style'].map(ref1)"
   ]
  },
  {
   "cell_type": "code",
   "execution_count": 23,
   "metadata": {
    "execution": {
     "iopub.execute_input": "2022-07-20T11:05:13.393605Z",
     "iopub.status.busy": "2022-07-20T11:05:13.391502Z",
     "iopub.status.idle": "2022-07-20T11:05:13.402086Z",
     "shell.execute_reply": "2022-07-20T11:05:13.400997Z",
     "shell.execute_reply.started": "2022-07-20T11:05:13.393443Z"
    },
    "executionInfo": {
     "elapsed": 351,
     "status": "ok",
     "timestamp": 1621672229958,
     "user": {
      "displayName": "siddharth patra",
      "photoUrl": "https://lh3.googleusercontent.com/a-/AOh14Gjnwsdj5DKa95WHRl25dlQz9L1Bbc10vap4xTNIiA=s64",
      "userId": "01966341811263607507"
     },
     "user_tz": -330
    },
    "id": "t_LESPYrMT6j",
    "outputId": "c3e214be-f14c-42a6-d7b5-492f259fc6b8"
   },
   "outputs": [
    {
     "data": {
      "text/plain": [
       "0    135\n",
       "1    135\n",
       "2    135\n",
       "3    158\n",
       "4    158\n",
       "Name: Body_Style_new, dtype: int64"
      ]
     },
     "execution_count": 23,
     "metadata": {},
     "output_type": "execute_result"
    }
   ],
   "source": [
    "# You may be wondering what I did, I took the value counts of each body type and replced the body type with the numbers, see below\n",
    "poke_type1['Body_Style_new'].head()"
   ]
  },
  {
   "cell_type": "code",
   "execution_count": 24,
   "metadata": {
    "execution": {
     "iopub.execute_input": "2022-07-20T11:05:13.403910Z",
     "iopub.status.busy": "2022-07-20T11:05:13.403402Z",
     "iopub.status.idle": "2022-07-20T11:05:13.414879Z",
     "shell.execute_reply": "2022-07-20T11:05:13.413929Z",
     "shell.execute_reply.started": "2022-07-20T11:05:13.403878Z"
    },
    "executionInfo": {
     "elapsed": 479,
     "status": "ok",
     "timestamp": 1621672256451,
     "user": {
      "displayName": "siddharth patra",
      "photoUrl": "https://lh3.googleusercontent.com/a-/AOh14Gjnwsdj5DKa95WHRl25dlQz9L1Bbc10vap4xTNIiA=s64",
      "userId": "01966341811263607507"
     },
     "user_tz": -330
    },
    "id": "ptEo3R8jMnfv",
    "outputId": "2c32f984-7b50-4d2f-d60e-942cea3f2702"
   },
   "outputs": [
    {
     "data": {
      "text/plain": [
       "0         quadruped\n",
       "1         quadruped\n",
       "2         quadruped\n",
       "3    bipedal_tailed\n",
       "4    bipedal_tailed\n",
       "Name: Body_Style, dtype: object"
      ]
     },
     "execution_count": 24,
     "metadata": {},
     "output_type": "execute_result"
    }
   ],
   "source": [
    "poke_type1['Body_Style'].head()"
   ]
  },
  {
   "cell_type": "code",
   "execution_count": 25,
   "metadata": {
    "execution": {
     "iopub.execute_input": "2022-07-20T11:05:13.416999Z",
     "iopub.status.busy": "2022-07-20T11:05:13.416395Z",
     "iopub.status.idle": "2022-07-20T11:05:13.423741Z",
     "shell.execute_reply": "2022-07-20T11:05:13.422624Z",
     "shell.execute_reply.started": "2022-07-20T11:05:13.416956Z"
    },
    "id": "WLEAPu4MMt9q"
   },
   "outputs": [],
   "source": [
    "# encoding data - features like Type_1 and Color"
   ]
  },
  {
   "cell_type": "code",
   "execution_count": 26,
   "metadata": {
    "execution": {
     "iopub.execute_input": "2022-07-20T11:05:13.426140Z",
     "iopub.status.busy": "2022-07-20T11:05:13.425448Z",
     "iopub.status.idle": "2022-07-20T11:05:13.465302Z",
     "shell.execute_reply": "2022-07-20T11:05:13.464150Z",
     "shell.execute_reply.started": "2022-07-20T11:05:13.426086Z"
    },
    "executionInfo": {
     "elapsed": 364,
     "status": "ok",
     "timestamp": 1621673130085,
     "user": {
      "displayName": "siddharth patra",
      "photoUrl": "https://lh3.googleusercontent.com/a-/AOh14Gjnwsdj5DKa95WHRl25dlQz9L1Bbc10vap4xTNIiA=s64",
      "userId": "01966341811263607507"
     },
     "user_tz": -330
    },
    "id": "MkN2dAX5PYXH",
    "outputId": "8f14ffb7-80fd-4d26-8afe-6d5e0a0ceb89"
   },
   "outputs": [
    {
     "data": {
      "text/html": [
       "<div>\n",
       "<style scoped>\n",
       "    .dataframe tbody tr th:only-of-type {\n",
       "        vertical-align: middle;\n",
       "    }\n",
       "\n",
       "    .dataframe tbody tr th {\n",
       "        vertical-align: top;\n",
       "    }\n",
       "\n",
       "    .dataframe thead th {\n",
       "        text-align: right;\n",
       "    }\n",
       "</style>\n",
       "<table border=\"1\" class=\"dataframe\">\n",
       "  <thead>\n",
       "    <tr style=\"text-align: right;\">\n",
       "      <th></th>\n",
       "      <th>Number</th>\n",
       "      <th>Name</th>\n",
       "      <th>Type_1</th>\n",
       "      <th>Total</th>\n",
       "      <th>HP</th>\n",
       "      <th>Attack</th>\n",
       "      <th>Defense</th>\n",
       "      <th>Sp_Atk</th>\n",
       "      <th>Sp_Def</th>\n",
       "      <th>Speed</th>\n",
       "      <th>...</th>\n",
       "      <th>Black</th>\n",
       "      <th>Blue</th>\n",
       "      <th>Brown</th>\n",
       "      <th>Green</th>\n",
       "      <th>Grey</th>\n",
       "      <th>Pink</th>\n",
       "      <th>Purple</th>\n",
       "      <th>Red</th>\n",
       "      <th>White</th>\n",
       "      <th>Yellow</th>\n",
       "    </tr>\n",
       "  </thead>\n",
       "  <tbody>\n",
       "    <tr>\n",
       "      <th>0</th>\n",
       "      <td>1</td>\n",
       "      <td>Bulbasaur</td>\n",
       "      <td>Grass</td>\n",
       "      <td>318</td>\n",
       "      <td>45</td>\n",
       "      <td>49</td>\n",
       "      <td>49</td>\n",
       "      <td>65</td>\n",
       "      <td>65</td>\n",
       "      <td>45</td>\n",
       "      <td>...</td>\n",
       "      <td>0</td>\n",
       "      <td>0</td>\n",
       "      <td>0</td>\n",
       "      <td>1</td>\n",
       "      <td>0</td>\n",
       "      <td>0</td>\n",
       "      <td>0</td>\n",
       "      <td>0</td>\n",
       "      <td>0</td>\n",
       "      <td>0</td>\n",
       "    </tr>\n",
       "    <tr>\n",
       "      <th>1</th>\n",
       "      <td>2</td>\n",
       "      <td>Ivysaur</td>\n",
       "      <td>Grass</td>\n",
       "      <td>405</td>\n",
       "      <td>60</td>\n",
       "      <td>62</td>\n",
       "      <td>63</td>\n",
       "      <td>80</td>\n",
       "      <td>80</td>\n",
       "      <td>60</td>\n",
       "      <td>...</td>\n",
       "      <td>0</td>\n",
       "      <td>0</td>\n",
       "      <td>0</td>\n",
       "      <td>1</td>\n",
       "      <td>0</td>\n",
       "      <td>0</td>\n",
       "      <td>0</td>\n",
       "      <td>0</td>\n",
       "      <td>0</td>\n",
       "      <td>0</td>\n",
       "    </tr>\n",
       "    <tr>\n",
       "      <th>2</th>\n",
       "      <td>3</td>\n",
       "      <td>Venusaur</td>\n",
       "      <td>Grass</td>\n",
       "      <td>525</td>\n",
       "      <td>80</td>\n",
       "      <td>82</td>\n",
       "      <td>83</td>\n",
       "      <td>100</td>\n",
       "      <td>100</td>\n",
       "      <td>80</td>\n",
       "      <td>...</td>\n",
       "      <td>0</td>\n",
       "      <td>0</td>\n",
       "      <td>0</td>\n",
       "      <td>1</td>\n",
       "      <td>0</td>\n",
       "      <td>0</td>\n",
       "      <td>0</td>\n",
       "      <td>0</td>\n",
       "      <td>0</td>\n",
       "      <td>0</td>\n",
       "    </tr>\n",
       "    <tr>\n",
       "      <th>3</th>\n",
       "      <td>4</td>\n",
       "      <td>Charmander</td>\n",
       "      <td>Fire</td>\n",
       "      <td>309</td>\n",
       "      <td>39</td>\n",
       "      <td>52</td>\n",
       "      <td>43</td>\n",
       "      <td>60</td>\n",
       "      <td>50</td>\n",
       "      <td>65</td>\n",
       "      <td>...</td>\n",
       "      <td>0</td>\n",
       "      <td>0</td>\n",
       "      <td>0</td>\n",
       "      <td>0</td>\n",
       "      <td>0</td>\n",
       "      <td>0</td>\n",
       "      <td>0</td>\n",
       "      <td>1</td>\n",
       "      <td>0</td>\n",
       "      <td>0</td>\n",
       "    </tr>\n",
       "    <tr>\n",
       "      <th>4</th>\n",
       "      <td>5</td>\n",
       "      <td>Charmeleon</td>\n",
       "      <td>Fire</td>\n",
       "      <td>405</td>\n",
       "      <td>58</td>\n",
       "      <td>64</td>\n",
       "      <td>58</td>\n",
       "      <td>80</td>\n",
       "      <td>65</td>\n",
       "      <td>80</td>\n",
       "      <td>...</td>\n",
       "      <td>0</td>\n",
       "      <td>0</td>\n",
       "      <td>0</td>\n",
       "      <td>0</td>\n",
       "      <td>0</td>\n",
       "      <td>0</td>\n",
       "      <td>0</td>\n",
       "      <td>1</td>\n",
       "      <td>0</td>\n",
       "      <td>0</td>\n",
       "    </tr>\n",
       "  </tbody>\n",
       "</table>\n",
       "<p>5 rows × 43 columns</p>\n",
       "</div>"
      ],
      "text/plain": [
       "   Number        Name Type_1  Total  HP  Attack  Defense  Sp_Atk  Sp_Def  \\\n",
       "0       1   Bulbasaur  Grass    318  45      49       49      65      65   \n",
       "1       2     Ivysaur  Grass    405  60      62       63      80      80   \n",
       "2       3    Venusaur  Grass    525  80      82       83     100     100   \n",
       "3       4  Charmander   Fire    309  39      52       43      60      50   \n",
       "4       5  Charmeleon   Fire    405  58      64       58      80      65   \n",
       "\n",
       "   Speed  ...  Black  Blue Brown  Green  Grey Pink  Purple  Red  White  Yellow  \n",
       "0     45  ...      0     0     0      1     0    0       0    0      0       0  \n",
       "1     60  ...      0     0     0      1     0    0       0    0      0       0  \n",
       "2     80  ...      0     0     0      1     0    0       0    0      0       0  \n",
       "3     65  ...      0     0     0      0     0    0       0    1      0       0  \n",
       "4     80  ...      0     0     0      0     0    0       0    1      0       0  \n",
       "\n",
       "[5 rows x 43 columns]"
      ]
     },
     "execution_count": 26,
     "metadata": {},
     "output_type": "execute_result"
    }
   ],
   "source": [
    "types_poke = pd.get_dummies(poke_type1['Type_1'])\n",
    "color_poke = pd.get_dummies(poke_type1['Color'])\n",
    "\n",
    "X = pd.concat([poke_type1, types_poke], axis=1)\n",
    "X = pd.concat([X, color_poke], axis=1)\n",
    "\n",
    "X.head()"
   ]
  },
  {
   "cell_type": "code",
   "execution_count": 27,
   "metadata": {
    "execution": {
     "iopub.execute_input": "2022-07-20T11:05:13.467819Z",
     "iopub.status.busy": "2022-07-20T11:05:13.467348Z",
     "iopub.status.idle": "2022-07-20T11:05:13.476308Z",
     "shell.execute_reply": "2022-07-20T11:05:13.475235Z",
     "shell.execute_reply.started": "2022-07-20T11:05:13.467775Z"
    },
    "executionInfo": {
     "elapsed": 354,
     "status": "ok",
     "timestamp": 1621674275473,
     "user": {
      "displayName": "siddharth patra",
      "photoUrl": "https://lh3.googleusercontent.com/a-/AOh14Gjnwsdj5DKa95WHRl25dlQz9L1Bbc10vap4xTNIiA=s64",
      "userId": "01966341811263607507"
     },
     "user_tz": -330
    },
    "id": "kGXau2vdP-Dv",
    "outputId": "f3a07194-c837-4298-e203-529e784f996c"
   },
   "outputs": [
    {
     "data": {
      "text/plain": [
       "Index(['Number', 'Name', 'Type_1', 'Total', 'HP', 'Attack', 'Defense',\n",
       "       'Sp_Atk', 'Sp_Def', 'Speed', 'Generation', 'isLegendary', 'Color',\n",
       "       'hasGender', 'Pr_Male', 'Egg_Group_1', 'hasMegaEvolution', 'Height_m',\n",
       "       'Weight_kg', 'Catch_Rate', 'Body_Style', 'Body_Style_new', 'Dark',\n",
       "       'Dragon', 'Electric', 'Fighting', 'Fire', 'Flying', 'Grass', 'Normal',\n",
       "       'Poison', 'Rock', 'Water', 'Black', 'Blue', 'Brown', 'Green', 'Grey',\n",
       "       'Pink', 'Purple', 'Red', 'White', 'Yellow'],\n",
       "      dtype='object')"
      ]
     },
     "execution_count": 27,
     "metadata": {},
     "output_type": "execute_result"
    }
   ],
   "source": [
    "# Now we have build some features and extracted some feature data, whats left is to remove redundant features\n",
    "X.columns"
   ]
  },
  {
   "cell_type": "code",
   "execution_count": 28,
   "metadata": {
    "execution": {
     "iopub.execute_input": "2022-07-20T11:05:13.496567Z",
     "iopub.status.busy": "2022-07-20T11:05:13.495476Z",
     "iopub.status.idle": "2022-07-20T11:05:13.518068Z",
     "shell.execute_reply": "2022-07-20T11:05:13.516891Z",
     "shell.execute_reply.started": "2022-07-20T11:05:13.496506Z"
    },
    "executionInfo": {
     "elapsed": 439,
     "status": "ok",
     "timestamp": 1621673267654,
     "user": {
      "displayName": "siddharth patra",
      "photoUrl": "https://lh3.googleusercontent.com/a-/AOh14Gjnwsdj5DKa95WHRl25dlQz9L1Bbc10vap4xTNIiA=s64",
      "userId": "01966341811263607507"
     },
     "user_tz": -330
    },
    "id": "U4ZF1GqgQUEM",
    "outputId": "6f7787d8-21ea-4308-b7d1-16b5385c02aa"
   },
   "outputs": [
    {
     "data": {
      "text/plain": [
       "(721, 38)"
      ]
     },
     "execution_count": 28,
     "metadata": {},
     "output_type": "execute_result"
    }
   ],
   "source": [
    "X_ = X.drop(['Number', 'Name', 'Type_1', 'Color', 'Egg_Group_1'], axis = 1)\n",
    "X_.shape"
   ]
  },
  {
   "cell_type": "code",
   "execution_count": 29,
   "metadata": {
    "execution": {
     "iopub.execute_input": "2022-07-20T11:05:13.520512Z",
     "iopub.status.busy": "2022-07-20T11:05:13.519822Z",
     "iopub.status.idle": "2022-07-20T11:05:13.544855Z",
     "shell.execute_reply": "2022-07-20T11:05:13.540778Z",
     "shell.execute_reply.started": "2022-07-20T11:05:13.520467Z"
    },
    "executionInfo": {
     "elapsed": 366,
     "status": "ok",
     "timestamp": 1621673280726,
     "user": {
      "displayName": "siddharth patra",
      "photoUrl": "https://lh3.googleusercontent.com/a-/AOh14Gjnwsdj5DKa95WHRl25dlQz9L1Bbc10vap4xTNIiA=s64",
      "userId": "01966341811263607507"
     },
     "user_tz": -330
    },
    "id": "cMdmS-ukQkz6",
    "outputId": "daec04cc-1af6-4c14-b8e4-7728fc0b3ec0"
   },
   "outputs": [
    {
     "data": {
      "text/plain": [
       "(721, 43)"
      ]
     },
     "execution_count": 29,
     "metadata": {},
     "output_type": "execute_result"
    }
   ],
   "source": [
    "X.shape"
   ]
  },
  {
   "cell_type": "code",
   "execution_count": 30,
   "metadata": {
    "execution": {
     "iopub.execute_input": "2022-07-20T11:05:13.547741Z",
     "iopub.status.busy": "2022-07-20T11:05:13.546992Z",
     "iopub.status.idle": "2022-07-20T11:05:13.554438Z",
     "shell.execute_reply": "2022-07-20T11:05:13.553171Z",
     "shell.execute_reply.started": "2022-07-20T11:05:13.547691Z"
    },
    "id": "3p9VKfBkQ7au"
   },
   "outputs": [],
   "source": [
    "# creating and training our model"
   ]
  },
  {
   "cell_type": "code",
   "execution_count": 31,
   "metadata": {
    "execution": {
     "iopub.execute_input": "2022-07-20T11:05:13.557786Z",
     "iopub.status.busy": "2022-07-20T11:05:13.556598Z",
     "iopub.status.idle": "2022-07-20T11:05:13.585649Z",
     "shell.execute_reply": "2022-07-20T11:05:13.584199Z",
     "shell.execute_reply.started": "2022-07-20T11:05:13.557723Z"
    },
    "id": "T9-S7jCJSbxh"
   },
   "outputs": [],
   "source": [
    "# Lastly we define our target variable and set it into a variable called y\n",
    "y = X_['isLegendary']\n",
    "X_final = X_.drop(['isLegendary', 'Body_Style'], axis = 1)"
   ]
  },
  {
   "cell_type": "code",
   "execution_count": 32,
   "metadata": {
    "execution": {
     "iopub.execute_input": "2022-07-20T11:05:13.588551Z",
     "iopub.status.busy": "2022-07-20T11:05:13.587768Z",
     "iopub.status.idle": "2022-07-20T11:05:13.602146Z",
     "shell.execute_reply": "2022-07-20T11:05:13.600796Z",
     "shell.execute_reply.started": "2022-07-20T11:05:13.588502Z"
    },
    "executionInfo": {
     "elapsed": 375,
     "status": "ok",
     "timestamp": 1621674283125,
     "user": {
      "displayName": "siddharth patra",
      "photoUrl": "https://lh3.googleusercontent.com/a-/AOh14Gjnwsdj5DKa95WHRl25dlQz9L1Bbc10vap4xTNIiA=s64",
      "userId": "01966341811263607507"
     },
     "user_tz": -330
    },
    "id": "cxt-tkxuSt3K",
    "outputId": "2afb5c78-dae1-4ce8-d244-f034183d72e5"
   },
   "outputs": [
    {
     "data": {
      "text/plain": [
       "Index(['Total', 'HP', 'Attack', 'Defense', 'Sp_Atk', 'Sp_Def', 'Speed',\n",
       "       'Generation', 'hasGender', 'Pr_Male', 'hasMegaEvolution', 'Height_m',\n",
       "       'Weight_kg', 'Catch_Rate', 'Body_Style_new', 'Dark', 'Dragon',\n",
       "       'Electric', 'Fighting', 'Fire', 'Flying', 'Grass', 'Normal', 'Poison',\n",
       "       'Rock', 'Water', 'Black', 'Blue', 'Brown', 'Green', 'Grey', 'Pink',\n",
       "       'Purple', 'Red', 'White', 'Yellow'],\n",
       "      dtype='object')"
      ]
     },
     "execution_count": 32,
     "metadata": {},
     "output_type": "execute_result"
    }
   ],
   "source": [
    "X_final.columns"
   ]
  },
  {
   "cell_type": "code",
   "execution_count": 33,
   "metadata": {
    "execution": {
     "iopub.execute_input": "2022-07-20T11:05:13.604988Z",
     "iopub.status.busy": "2022-07-20T11:05:13.604153Z",
     "iopub.status.idle": "2022-07-20T11:05:13.633921Z",
     "shell.execute_reply": "2022-07-20T11:05:13.632844Z",
     "shell.execute_reply.started": "2022-07-20T11:05:13.604944Z"
    },
    "executionInfo": {
     "elapsed": 427,
     "status": "ok",
     "timestamp": 1621677757291,
     "user": {
      "displayName": "siddharth patra",
      "photoUrl": "https://lh3.googleusercontent.com/a-/AOh14Gjnwsdj5DKa95WHRl25dlQz9L1Bbc10vap4xTNIiA=s64",
      "userId": "01966341811263607507"
     },
     "user_tz": -330
    },
    "id": "VsQMdzw4hqx7",
    "outputId": "a77c995d-c979-4811-e096-fcdc500441fe"
   },
   "outputs": [
    {
     "data": {
      "text/html": [
       "<div>\n",
       "<style scoped>\n",
       "    .dataframe tbody tr th:only-of-type {\n",
       "        vertical-align: middle;\n",
       "    }\n",
       "\n",
       "    .dataframe tbody tr th {\n",
       "        vertical-align: top;\n",
       "    }\n",
       "\n",
       "    .dataframe thead th {\n",
       "        text-align: right;\n",
       "    }\n",
       "</style>\n",
       "<table border=\"1\" class=\"dataframe\">\n",
       "  <thead>\n",
       "    <tr style=\"text-align: right;\">\n",
       "      <th></th>\n",
       "      <th>Total</th>\n",
       "      <th>HP</th>\n",
       "      <th>Attack</th>\n",
       "      <th>Defense</th>\n",
       "      <th>Sp_Atk</th>\n",
       "      <th>Sp_Def</th>\n",
       "      <th>Speed</th>\n",
       "      <th>Generation</th>\n",
       "      <th>hasGender</th>\n",
       "      <th>Pr_Male</th>\n",
       "      <th>...</th>\n",
       "      <th>Black</th>\n",
       "      <th>Blue</th>\n",
       "      <th>Brown</th>\n",
       "      <th>Green</th>\n",
       "      <th>Grey</th>\n",
       "      <th>Pink</th>\n",
       "      <th>Purple</th>\n",
       "      <th>Red</th>\n",
       "      <th>White</th>\n",
       "      <th>Yellow</th>\n",
       "    </tr>\n",
       "  </thead>\n",
       "  <tbody>\n",
       "    <tr>\n",
       "      <th>0</th>\n",
       "      <td>318</td>\n",
       "      <td>45</td>\n",
       "      <td>49</td>\n",
       "      <td>49</td>\n",
       "      <td>65</td>\n",
       "      <td>65</td>\n",
       "      <td>45</td>\n",
       "      <td>1</td>\n",
       "      <td>True</td>\n",
       "      <td>0.875</td>\n",
       "      <td>...</td>\n",
       "      <td>0</td>\n",
       "      <td>0</td>\n",
       "      <td>0</td>\n",
       "      <td>1</td>\n",
       "      <td>0</td>\n",
       "      <td>0</td>\n",
       "      <td>0</td>\n",
       "      <td>0</td>\n",
       "      <td>0</td>\n",
       "      <td>0</td>\n",
       "    </tr>\n",
       "    <tr>\n",
       "      <th>1</th>\n",
       "      <td>405</td>\n",
       "      <td>60</td>\n",
       "      <td>62</td>\n",
       "      <td>63</td>\n",
       "      <td>80</td>\n",
       "      <td>80</td>\n",
       "      <td>60</td>\n",
       "      <td>1</td>\n",
       "      <td>True</td>\n",
       "      <td>0.875</td>\n",
       "      <td>...</td>\n",
       "      <td>0</td>\n",
       "      <td>0</td>\n",
       "      <td>0</td>\n",
       "      <td>1</td>\n",
       "      <td>0</td>\n",
       "      <td>0</td>\n",
       "      <td>0</td>\n",
       "      <td>0</td>\n",
       "      <td>0</td>\n",
       "      <td>0</td>\n",
       "    </tr>\n",
       "    <tr>\n",
       "      <th>2</th>\n",
       "      <td>525</td>\n",
       "      <td>80</td>\n",
       "      <td>82</td>\n",
       "      <td>83</td>\n",
       "      <td>100</td>\n",
       "      <td>100</td>\n",
       "      <td>80</td>\n",
       "      <td>1</td>\n",
       "      <td>True</td>\n",
       "      <td>0.875</td>\n",
       "      <td>...</td>\n",
       "      <td>0</td>\n",
       "      <td>0</td>\n",
       "      <td>0</td>\n",
       "      <td>1</td>\n",
       "      <td>0</td>\n",
       "      <td>0</td>\n",
       "      <td>0</td>\n",
       "      <td>0</td>\n",
       "      <td>0</td>\n",
       "      <td>0</td>\n",
       "    </tr>\n",
       "    <tr>\n",
       "      <th>3</th>\n",
       "      <td>309</td>\n",
       "      <td>39</td>\n",
       "      <td>52</td>\n",
       "      <td>43</td>\n",
       "      <td>60</td>\n",
       "      <td>50</td>\n",
       "      <td>65</td>\n",
       "      <td>1</td>\n",
       "      <td>True</td>\n",
       "      <td>0.875</td>\n",
       "      <td>...</td>\n",
       "      <td>0</td>\n",
       "      <td>0</td>\n",
       "      <td>0</td>\n",
       "      <td>0</td>\n",
       "      <td>0</td>\n",
       "      <td>0</td>\n",
       "      <td>0</td>\n",
       "      <td>1</td>\n",
       "      <td>0</td>\n",
       "      <td>0</td>\n",
       "    </tr>\n",
       "    <tr>\n",
       "      <th>4</th>\n",
       "      <td>405</td>\n",
       "      <td>58</td>\n",
       "      <td>64</td>\n",
       "      <td>58</td>\n",
       "      <td>80</td>\n",
       "      <td>65</td>\n",
       "      <td>80</td>\n",
       "      <td>1</td>\n",
       "      <td>True</td>\n",
       "      <td>0.875</td>\n",
       "      <td>...</td>\n",
       "      <td>0</td>\n",
       "      <td>0</td>\n",
       "      <td>0</td>\n",
       "      <td>0</td>\n",
       "      <td>0</td>\n",
       "      <td>0</td>\n",
       "      <td>0</td>\n",
       "      <td>1</td>\n",
       "      <td>0</td>\n",
       "      <td>0</td>\n",
       "    </tr>\n",
       "  </tbody>\n",
       "</table>\n",
       "<p>5 rows × 36 columns</p>\n",
       "</div>"
      ],
      "text/plain": [
       "   Total  HP  Attack  Defense  Sp_Atk  Sp_Def  Speed  Generation  hasGender  \\\n",
       "0    318  45      49       49      65      65     45           1       True   \n",
       "1    405  60      62       63      80      80     60           1       True   \n",
       "2    525  80      82       83     100     100     80           1       True   \n",
       "3    309  39      52       43      60      50     65           1       True   \n",
       "4    405  58      64       58      80      65     80           1       True   \n",
       "\n",
       "   Pr_Male  ...  Black  Blue  Brown  Green  Grey  Pink  Purple  Red  White  \\\n",
       "0    0.875  ...      0     0      0      1     0     0       0    0      0   \n",
       "1    0.875  ...      0     0      0      1     0     0       0    0      0   \n",
       "2    0.875  ...      0     0      0      1     0     0       0    0      0   \n",
       "3    0.875  ...      0     0      0      0     0     0       0    1      0   \n",
       "4    0.875  ...      0     0      0      0     0     0       0    1      0   \n",
       "\n",
       "   Yellow  \n",
       "0       0  \n",
       "1       0  \n",
       "2       0  \n",
       "3       0  \n",
       "4       0  \n",
       "\n",
       "[5 rows x 36 columns]"
      ]
     },
     "execution_count": 33,
     "metadata": {},
     "output_type": "execute_result"
    }
   ],
   "source": [
    "X_final.head()"
   ]
  },
  {
   "cell_type": "code",
   "execution_count": 34,
   "metadata": {
    "execution": {
     "iopub.execute_input": "2022-07-20T11:05:13.635765Z",
     "iopub.status.busy": "2022-07-20T11:05:13.635305Z",
     "iopub.status.idle": "2022-07-20T11:05:13.643634Z",
     "shell.execute_reply": "2022-07-20T11:05:13.642597Z",
     "shell.execute_reply.started": "2022-07-20T11:05:13.635709Z"
    },
    "id": "TQ4nK8ncRb_R"
   },
   "outputs": [],
   "source": [
    "Xtrain, Xtest, ytrain, ytest = train_test_split(X_final, y, test_size=0.2)"
   ]
  },
  {
   "cell_type": "code",
   "execution_count": 35,
   "metadata": {
    "execution": {
     "iopub.execute_input": "2022-07-20T11:05:13.646028Z",
     "iopub.status.busy": "2022-07-20T11:05:13.645050Z",
     "iopub.status.idle": "2022-07-20T11:05:13.651880Z",
     "shell.execute_reply": "2022-07-20T11:05:13.650725Z",
     "shell.execute_reply.started": "2022-07-20T11:05:13.645988Z"
    },
    "id": "y-DwR28dRAFo"
   },
   "outputs": [],
   "source": [
    "random_model = RandomForestClassifier(n_estimators=500, random_state = 42)"
   ]
  },
  {
   "cell_type": "code",
   "execution_count": 36,
   "metadata": {
    "execution": {
     "iopub.execute_input": "2022-07-20T11:05:13.654157Z",
     "iopub.status.busy": "2022-07-20T11:05:13.653352Z",
     "iopub.status.idle": "2022-07-20T11:05:14.511027Z",
     "shell.execute_reply": "2022-07-20T11:05:14.509846Z",
     "shell.execute_reply.started": "2022-07-20T11:05:13.654113Z"
    },
    "executionInfo": {
     "elapsed": 1074,
     "status": "ok",
     "timestamp": 1621674826217,
     "user": {
      "displayName": "siddharth patra",
      "photoUrl": "https://lh3.googleusercontent.com/a-/AOh14Gjnwsdj5DKa95WHRl25dlQz9L1Bbc10vap4xTNIiA=s64",
      "userId": "01966341811263607507"
     },
     "user_tz": -330
    },
    "id": "RTFvZradRJdW",
    "outputId": "66cb334e-0e95-4cd7-db06-bd0f5865a490"
   },
   "outputs": [
    {
     "name": "stdout",
     "output_type": "stream",
     "text": [
      "100.0 %\n"
     ]
    }
   ],
   "source": [
    "#Fit\n",
    "model_final = random_model.fit(Xtrain, ytrain)\n",
    "\n",
    "y_pred = model_final.predict(Xtest)\n",
    "\n",
    "#Checking the accuracy\n",
    "random_model_accuracy = round(model_final.score(Xtrain, ytrain)*100,2)\n",
    "print(round(random_model_accuracy, 2), '%')"
   ]
  },
  {
   "cell_type": "code",
   "execution_count": 37,
   "metadata": {
    "execution": {
     "iopub.execute_input": "2022-07-20T11:05:14.512703Z",
     "iopub.status.busy": "2022-07-20T11:05:14.512362Z",
     "iopub.status.idle": "2022-07-20T11:05:14.577759Z",
     "shell.execute_reply": "2022-07-20T11:05:14.576504Z",
     "shell.execute_reply.started": "2022-07-20T11:05:14.512672Z"
    },
    "executionInfo": {
     "elapsed": 3,
     "status": "ok",
     "timestamp": 1621674330062,
     "user": {
      "displayName": "siddharth patra",
      "photoUrl": "https://lh3.googleusercontent.com/a-/AOh14Gjnwsdj5DKa95WHRl25dlQz9L1Bbc10vap4xTNIiA=s64",
      "userId": "01966341811263607507"
     },
     "user_tz": -330
    },
    "id": "Ds3-QTG9RJkM",
    "outputId": "65372d7b-6be3-4602-d086-cf2c437b979d"
   },
   "outputs": [
    {
     "name": "stdout",
     "output_type": "stream",
     "text": [
      "97.93 %\n"
     ]
    }
   ],
   "source": [
    "random_model_accuracy1 = round(random_model.score(Xtest, ytest)*100,2)\n",
    "print(round(random_model_accuracy1, 2), '%')"
   ]
  },
  {
   "cell_type": "code",
   "execution_count": 38,
   "metadata": {
    "execution": {
     "iopub.execute_input": "2022-07-20T11:05:14.579602Z",
     "iopub.status.busy": "2022-07-20T11:05:14.579261Z",
     "iopub.status.idle": "2022-07-20T11:05:14.584806Z",
     "shell.execute_reply": "2022-07-20T11:05:14.583686Z",
     "shell.execute_reply.started": "2022-07-20T11:05:14.579571Z"
    },
    "executionInfo": {
     "elapsed": 410,
     "status": "ok",
     "timestamp": 1621674576478,
     "user": {
      "displayName": "siddharth patra",
      "photoUrl": "https://lh3.googleusercontent.com/a-/AOh14Gjnwsdj5DKa95WHRl25dlQz9L1Bbc10vap4xTNIiA=s64",
      "userId": "01966341811263607507"
     },
     "user_tz": -330
    },
    "id": "-8sAhTC2VFAS",
    "outputId": "111fdf7d-7ee6-4824-8c0b-dc699d2bf73b"
   },
   "outputs": [
    {
     "name": "stdout",
     "output_type": "stream",
     "text": [
      "<class 'pandas.core.series.Series'>\n"
     ]
    }
   ],
   "source": [
    "print(type(ytest))\n",
    "Ytest = np.array(ytest)"
   ]
  },
  {
   "cell_type": "code",
   "execution_count": 39,
   "metadata": {
    "execution": {
     "iopub.execute_input": "2022-07-20T11:06:16.226618Z",
     "iopub.status.busy": "2022-07-20T11:06:16.226233Z",
     "iopub.status.idle": "2022-07-20T11:06:16.234652Z",
     "shell.execute_reply": "2022-07-20T11:06:16.233572Z",
     "shell.execute_reply.started": "2022-07-20T11:06:16.226586Z"
    },
    "executionInfo": {
     "elapsed": 505,
     "status": "ok",
     "timestamp": 1621674551322,
     "user": {
      "displayName": "siddharth patra",
      "photoUrl": "https://lh3.googleusercontent.com/a-/AOh14Gjnwsdj5DKa95WHRl25dlQz9L1Bbc10vap4xTNIiA=s64",
      "userId": "01966341811263607507"
     },
     "user_tz": -330
    },
    "id": "xhVyqBL4Vc4o",
    "outputId": "094d4432-f857-4dc0-9cf3-76431ba33e7c"
   },
   "outputs": [
    {
     "data": {
      "text/plain": [
       "numpy.ndarray"
      ]
     },
     "execution_count": 39,
     "metadata": {},
     "output_type": "execute_result"
    }
   ],
   "source": [
    "type(y_pred)"
   ]
  },
  {
   "cell_type": "code",
   "execution_count": 40,
   "metadata": {
    "execution": {
     "iopub.execute_input": "2022-07-20T11:07:06.873248Z",
     "iopub.status.busy": "2022-07-20T11:07:06.872799Z",
     "iopub.status.idle": "2022-07-20T11:07:06.879242Z",
     "shell.execute_reply": "2022-07-20T11:07:06.878145Z",
     "shell.execute_reply.started": "2022-07-20T11:07:06.873210Z"
    },
    "executionInfo": {
     "elapsed": 473,
     "status": "ok",
     "timestamp": 1621674611887,
     "user": {
      "displayName": "siddharth patra",
      "photoUrl": "https://lh3.googleusercontent.com/a-/AOh14Gjnwsdj5DKa95WHRl25dlQz9L1Bbc10vap4xTNIiA=s64",
      "userId": "01966341811263607507"
     },
     "user_tz": -330
    },
    "id": "kjWZu6xoUoK1",
    "outputId": "b9947093-8f67-4223-c610-de055843c985"
   },
   "outputs": [
    {
     "name": "stdout",
     "output_type": "stream",
     "text": [
      "97.93103448275862\n"
     ]
    }
   ],
   "source": [
    "count = 0\n",
    "for i in range(len(ytest)):\n",
    "  if Ytest[i] == y_pred[i]:\n",
    "    count = count + 1\n",
    "\n",
    "print((count/len(ytest))*100)"
   ]
  },
  {
   "cell_type": "code",
   "execution_count": 41,
   "metadata": {
    "execution": {
     "iopub.execute_input": "2022-07-20T11:09:07.694920Z",
     "iopub.status.busy": "2022-07-20T11:09:07.694544Z",
     "iopub.status.idle": "2022-07-20T11:09:07.721535Z",
     "shell.execute_reply": "2022-07-20T11:09:07.720420Z",
     "shell.execute_reply.started": "2022-07-20T11:09:07.694890Z"
    },
    "id": "R3GivHBYVBiH"
   },
   "outputs": [],
   "source": [
    "# save the model to disk\n",
    "import pickle\n",
    "filename = 'Pokemon Data.pickle'\n",
    "pickle.dump(model_final, open(filename, 'wb'))"
   ]
  },
  {
   "cell_type": "code",
   "execution_count": 42,
   "metadata": {
    "execution": {
     "iopub.status.busy": "2022-07-20T11:05:14.722404Z",
     "iopub.status.idle": "2022-07-20T11:05:14.722960Z",
     "shell.execute_reply": "2022-07-20T11:05:14.722795Z",
     "shell.execute_reply.started": "2022-07-20T11:05:14.722774Z"
    },
    "id": "zXzJDUlFWy6p"
   },
   "outputs": [
    {
     "data": {
      "text/plain": [
       "\"\\n# load the model from disk\\nfilename = 'drive/MyDrive/Dataset/Models/pokemon_model.pickle'\\nloaded_model = pickle.load(open(filename, 'rb'))\\nresult = loaded_model.score(Xtest, ytest)\\n\""
      ]
     },
     "execution_count": 42,
     "metadata": {},
     "output_type": "execute_result"
    }
   ],
   "source": [
    "\"\"\"\n",
    "# load the model from disk\n",
    "filename = 'drive/MyDrive/Dataset/Models/pokemon_model.pickle'\n",
    "loaded_model = pickle.load(open(filename, 'rb'))\n",
    "result = loaded_model.score(Xtest, ytest)\n",
    "\"\"\""
   ]
  }
 ],
 "metadata": {
  "kernelspec": {
   "display_name": "Python 3",
   "language": "python",
   "name": "python3"
  },
  "language_info": {
   "codemirror_mode": {
    "name": "ipython",
    "version": 3
   },
   "file_extension": ".py",
   "mimetype": "text/x-python",
   "name": "python",
   "nbconvert_exporter": "python",
   "pygments_lexer": "ipython3",
   "version": "3.8.5"
  }
 },
 "nbformat": 4,
 "nbformat_minor": 4
}
